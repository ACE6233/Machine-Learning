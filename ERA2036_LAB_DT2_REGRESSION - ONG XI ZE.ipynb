{
 "cells": [
  {
   "cell_type": "code",
   "execution_count": 1,
   "metadata": {
    "colab": {
     "base_uri": "https://localhost:8080/"
    },
    "executionInfo": {
     "elapsed": 614,
     "status": "ok",
     "timestamp": 1695024060000,
     "user": {
      "displayName": "ONG XI ZE",
      "userId": "07825027605183108100"
     },
     "user_tz": -480
    },
    "id": "nQjcAGid7JKv",
    "outputId": "db009342-e6f6-4d75-b19e-5746a25b412c"
   },
   "outputs": [
    {
     "name": "stdout",
     "output_type": "stream",
     "text": [
      "(10000, 3)\n",
      "      Gender  Height  Weight\n",
      "4229    Male   174.5    81.0\n",
      "1873  Female   163.8    60.8\n",
      "7649    Male   169.7    79.4\n",
      "8502    Male   179.0    78.9\n",
      "2808    Male   178.3    90.6\n",
      "5748  Female   162.1    62.1\n",
      "1513    Male   168.3    73.3\n",
      "3916  Female   142.5    39.6\n",
      "4122    Male   166.1    76.0\n",
      "260     Male   162.2    76.2\n",
      "             Height        Weight\n",
      "count  10000.000000  10000.000000\n",
      "mean     168.573940     73.228260\n",
      "std        9.772842     14.563851\n",
      "min      137.800000     29.300000\n",
      "25%      161.300000     61.600000\n",
      "50%      168.400000     73.100000\n",
      "75%      175.700000     84.900000\n",
      "max      200.700000    122.500000\n"
     ]
    }
   ],
   "source": [
    "# Regression model to use height to predict weight\n",
    "# Load modules and packages\n",
    "import pandas as pd\n",
    "from sklearn.model_selection import train_test_split as split\n",
    "from sklearn.linear_model import LinearRegression\n",
    "# Load dataset\n",
    "file = 'https://raw.githubusercontent.com/wooihaw/datasets/main/genders_heights_weights.csv'\n",
    "df = pd.read_csv(file)\n",
    "# Dimension of dataset\n",
    "print(df.shape)\n",
    "# preview 10 lines of data\n",
    "print(df.sample(10))\n",
    "# Descriptive statistics\n",
    "print(df.describe())\n",
    "# Split dataset into training and testing sets\n",
    "X = df.drop(columns=['Gender', 'Weight'])\n",
    "y = df['Weight']\n",
    "X_train, X_test, y_train, y_test = split(X, y, test_size=0.25, random_state=42)"
   ]
  },
  {
   "cell_type": "code",
   "execution_count": 2,
   "metadata": {
    "colab": {
     "base_uri": "https://localhost:8080/"
    },
    "executionInfo": {
     "elapsed": 22,
     "status": "ok",
     "timestamp": 1695024060001,
     "user": {
      "displayName": "ONG XI ZE",
      "userId": "07825027605183108100"
     },
     "user_tz": -480
    },
    "id": "tLUU3r8-8Fc6",
    "outputId": "6d339f07-8cd1-4a83-f431-0175f5b78696"
   },
   "outputs": [
    {
     "name": "stdout",
     "output_type": "stream",
     "text": [
      "Training set dimensions: (7500, 1)\n",
      "Testing set dimensions: (2500, 1)\n",
      "Number of data samples in training set: 7500\n",
      "Number of data samples in testing set: 2500\n"
     ]
    }
   ],
   "source": [
    "# 3.To check the dimensions of the training set (X_train) and testing set (X_test)\n",
    "print(\"Training set dimensions:\", X_train.shape)\n",
    "print(\"Testing set dimensions:\", X_test.shape)\n",
    "print(\"Number of data samples in training set:\", len(X_train))\n",
    "print(\"Number of data samples in testing set:\", len(X_test))\n"
   ]
  },
  {
   "cell_type": "code",
   "execution_count": 3,
   "metadata": {
    "colab": {
     "base_uri": "https://localhost:8080/"
    },
    "executionInfo": {
     "elapsed": 19,
     "status": "ok",
     "timestamp": 1695024060002,
     "user": {
      "displayName": "ONG XI ZE",
      "userId": "07825027605183108100"
     },
     "user_tz": -480
    },
    "id": "46e970f9",
    "outputId": "d6fc837d-856b-4b1b-c62b-533a389a8122"
   },
   "outputs": [
    {
     "name": "stdout",
     "output_type": "stream",
     "text": [
      "lnr R2 score: 0.8590692022607564\n"
     ]
    }
   ],
   "source": [
    "# Evaluate the performance of the model on the testing set.\n",
    "lnr = LinearRegression().fit(X_train, y_train)\n",
    "\n",
    "# Evaluate the linear regression model with the testing data and print the R2 score\n",
    "print(f\"lnr R2 score: {lnr.score(X_test, y_test)}\")"
   ]
  },
  {
   "cell_type": "code",
   "execution_count": 4,
   "metadata": {
    "colab": {
     "base_uri": "https://localhost:8080/",
     "height": 206
    },
    "executionInfo": {
     "elapsed": 49,
     "status": "ok",
     "timestamp": 1695024060414,
     "user": {
      "displayName": "ONG XI ZE",
      "userId": "07825027605183108100"
     },
     "user_tz": -480
    },
    "id": "_XfS9nd0OBZf",
    "outputId": "6b365481-885c-43ac-f29c-f525c45f3f1f"
   },
   "outputs": [
    {
     "data": {
      "text/html": [
       "<div>\n",
       "<style scoped>\n",
       "    .dataframe tbody tr th:only-of-type {\n",
       "        vertical-align: middle;\n",
       "    }\n",
       "\n",
       "    .dataframe tbody tr th {\n",
       "        vertical-align: top;\n",
       "    }\n",
       "\n",
       "    .dataframe thead th {\n",
       "        text-align: right;\n",
       "    }\n",
       "</style>\n",
       "<table border=\"1\" class=\"dataframe\">\n",
       "  <thead>\n",
       "    <tr style=\"text-align: right;\">\n",
       "      <th></th>\n",
       "      <th>Height</th>\n",
       "      <th>Weight</th>\n",
       "      <th>Gender_Female</th>\n",
       "      <th>Gender_Male</th>\n",
       "    </tr>\n",
       "  </thead>\n",
       "  <tbody>\n",
       "    <tr>\n",
       "      <th>2971</th>\n",
       "      <td>167.8</td>\n",
       "      <td>64.7</td>\n",
       "      <td>1</td>\n",
       "      <td>0</td>\n",
       "    </tr>\n",
       "    <tr>\n",
       "      <th>8301</th>\n",
       "      <td>178.3</td>\n",
       "      <td>89.8</td>\n",
       "      <td>0</td>\n",
       "      <td>1</td>\n",
       "    </tr>\n",
       "    <tr>\n",
       "      <th>8145</th>\n",
       "      <td>168.4</td>\n",
       "      <td>74.1</td>\n",
       "      <td>0</td>\n",
       "      <td>1</td>\n",
       "    </tr>\n",
       "    <tr>\n",
       "      <th>5162</th>\n",
       "      <td>170.5</td>\n",
       "      <td>78.3</td>\n",
       "      <td>0</td>\n",
       "      <td>1</td>\n",
       "    </tr>\n",
       "    <tr>\n",
       "      <th>5231</th>\n",
       "      <td>174.3</td>\n",
       "      <td>92.1</td>\n",
       "      <td>0</td>\n",
       "      <td>1</td>\n",
       "    </tr>\n",
       "  </tbody>\n",
       "</table>\n",
       "</div>"
      ],
      "text/plain": [
       "      Height  Weight  Gender_Female  Gender_Male\n",
       "2971   167.8    64.7              1            0\n",
       "8301   178.3    89.8              0            1\n",
       "8145   168.4    74.1              0            1\n",
       "5162   170.5    78.3              0            1\n",
       "5231   174.3    92.1              0            1"
      ]
     },
     "execution_count": 4,
     "metadata": {},
     "output_type": "execute_result"
    }
   ],
   "source": [
    "df2=pd.get_dummies(df)\n",
    "df2.sample(5)"
   ]
  },
  {
   "cell_type": "code",
   "execution_count": 5,
   "metadata": {
    "colab": {
     "base_uri": "https://localhost:8080/",
     "height": 74
    },
    "executionInfo": {
     "elapsed": 47,
     "status": "ok",
     "timestamp": 1695024060416,
     "user": {
      "displayName": "ONG XI ZE",
      "userId": "07825027605183108100"
     },
     "user_tz": -480
    },
    "id": "2OvcCE4FTAbk",
    "outputId": "4cee676c-a35c-41b3-b926-71ead8eec6de"
   },
   "outputs": [
    {
     "data": {
      "text/plain": [
       "LinearRegression()"
      ]
     },
     "execution_count": 5,
     "metadata": {},
     "output_type": "execute_result"
    }
   ],
   "source": [
    "# 5. Train a linear regression model using the training set.\n",
    "from sklearn.linear_model import LinearRegression\n",
    "\n",
    "# Create a linear regression model\n",
    "regression_model = LinearRegression()\n",
    "\n",
    "# Fit the model to the training data\n",
    "regression_model.fit(X_train, y_train)"
   ]
  },
  {
   "cell_type": "code",
   "execution_count": 9,
   "metadata": {
    "colab": {
     "base_uri": "https://localhost:8080/"
    },
    "executionInfo": {
     "elapsed": 45,
     "status": "ok",
     "timestamp": 1695024060417,
     "user": {
      "displayName": "ONG XI ZE",
      "userId": "07825027605183108100"
     },
     "user_tz": -480
    },
    "id": "9VOxSnx3StZ1",
    "outputId": "a3214cf1-ed48-4a94-ab66-8bc54f218cf7"
   },
   "outputs": [
    {
     "name": "stdout",
     "output_type": "stream",
     "text": [
      "Model R^2 score on test data with encoded features: 0.8590692022607564\n"
     ]
    }
   ],
   "source": [
    "# Evaluate the performance of the model on the test set with encoded features.\n",
    "r_squared_score_encoded = regression_model.score(X_test, y_test)\n",
    "print(\"Model R^2 score on test data with encoded features:\", r_squared_score_encoded)"
   ]
  },
  {
   "cell_type": "code",
   "execution_count": 10,
   "metadata": {
    "colab": {
     "base_uri": "https://localhost:8080/"
    },
    "executionInfo": {
     "elapsed": 443,
     "status": "ok",
     "timestamp": 1695024198334,
     "user": {
      "displayName": "ONG XI ZE",
      "userId": "07825027605183108100"
     },
     "user_tz": -480
    },
    "id": "1Vtt7vqLRgYn",
    "outputId": "38ed4c16-9b12-4e50-cac7-fd988d53658f"
   },
   "outputs": [
    {
     "ename": "NameError",
     "evalue": "name 'r_squared_score' is not defined",
     "output_type": "error",
     "traceback": [
      "\u001b[1;31m---------------------------------------------------------------------------\u001b[0m",
      "\u001b[1;31mNameError\u001b[0m                                 Traceback (most recent call last)",
      "\u001b[1;32m~\\AppData\\Local\\Temp\\ipykernel_8648\\675199425.py\u001b[0m in \u001b[0;36m<cell line: 2>\u001b[1;34m()\u001b[0m\n\u001b[0;32m      1\u001b[0m \u001b[1;31m# 10. Compare the performance of both models.\u001b[0m\u001b[1;33m\u001b[0m\u001b[1;33m\u001b[0m\u001b[0m\n\u001b[1;32m----> 2\u001b[1;33m \u001b[0mprint\u001b[0m\u001b[1;33m(\u001b[0m\u001b[1;34m\"Performance without gender encoding:\"\u001b[0m\u001b[1;33m,\u001b[0m \u001b[0mr_squared_score\u001b[0m\u001b[1;33m)\u001b[0m\u001b[1;33m\u001b[0m\u001b[1;33m\u001b[0m\u001b[0m\n\u001b[0m\u001b[0;32m      3\u001b[0m \u001b[0mprint\u001b[0m\u001b[1;33m(\u001b[0m\u001b[1;34m\"Performance with gender encoding:\"\u001b[0m\u001b[1;33m,\u001b[0m \u001b[0mr_squared_score_encoded\u001b[0m\u001b[1;33m)\u001b[0m\u001b[1;33m\u001b[0m\u001b[1;33m\u001b[0m\u001b[0m\n",
      "\u001b[1;31mNameError\u001b[0m: name 'r_squared_score' is not defined"
     ]
    }
   ],
   "source": [
    "\n",
    "# 10. Compare the performance of both models.\n",
    "print(\"Performance without gender encoding:\", r_squared_score)\n",
    "print(\"Performance with gender encoding:\", r_squared_score_encoded)"
   ]
  },
  {
   "cell_type": "markdown",
   "metadata": {
    "id": "zRqjJOiBUzzy"
   },
   "source": [
    "In conclusion the performance with gender encoding is higher compared to than without the gender encoding with value almost to 1 that is 0.9057030207072467.Hence the accuracy is higher"
   ]
  },
  {
   "cell_type": "markdown",
   "metadata": {
    "id": "IRxrgNt4AWEI"
   },
   "source": [
    "EXPERIMENT 2.2"
   ]
  },
  {
   "cell_type": "code",
   "execution_count": 12,
   "metadata": {
    "colab": {
     "base_uri": "https://localhost:8080/"
    },
    "executionInfo": {
     "elapsed": 39,
     "status": "ok",
     "timestamp": 1695024060419,
     "user": {
      "displayName": "ONG XI ZE",
      "userId": "07825027605183108100"
     },
     "user_tz": -480
    },
    "id": "JMPO6yqvBO9w",
    "outputId": "65d6dd25-b1e0-4de6-cc85-4248ec7ef730",
    "scrolled": true
   },
   "outputs": [
    {
     "name": "stdout",
     "output_type": "stream",
     "text": [
      "(159, 7)\n",
      "    Species  Weight  Length1  Length2  Length3   Height   Width\n",
      "119   Perch   850.0     36.9     40.0     42.3  11.9286  7.1064\n",
      "93    Perch   145.0     20.7     22.7     24.2   5.9532  3.6300\n",
      "6     Bream   500.0     26.8     29.7     34.5  14.1795  5.2785\n",
      "18    Bream   610.0     30.9     33.5     38.6  15.6330  5.1338\n",
      "99    Perch   180.0     23.0     25.0     26.5   6.4395  3.6835\n",
      "17    Bream   700.0     30.4     33.0     38.5  14.9380  5.1975\n",
      "53    Roach   272.0     25.0     27.0     30.6   8.5680  4.7736\n",
      "154   Smelt    12.2     11.5     12.2     13.4   2.0904  1.3936\n",
      "62   Parkki    60.0     14.3     15.5     17.4   6.5772  2.3142\n",
      "44    Roach   145.0     20.5     22.0     24.3   6.6339  3.5478\n",
      "            Weight     Length1     Length2     Length3      Height       Width\n",
      "count   159.000000  159.000000  159.000000  159.000000  159.000000  159.000000\n",
      "mean    398.326415   26.247170   28.415723   31.227044    8.970994    4.417486\n",
      "std     357.978317    9.996441   10.716328   11.610246    4.286208    1.685804\n",
      "min       0.000000    7.500000    8.400000    8.800000    1.728400    1.047600\n",
      "25%     120.000000   19.050000   21.000000   23.150000    5.944800    3.385650\n",
      "50%     273.000000   25.200000   27.300000   29.400000    7.786000    4.248500\n",
      "75%     650.000000   32.700000   35.500000   39.650000   12.365900    5.584500\n",
      "max    1650.000000   59.000000   63.400000   68.000000   18.957000    8.142000\n",
      "knn accuracy: 0.525\n",
      "dtc accuracy: 0.475\n"
     ]
    },
    {
     "name": "stderr",
     "output_type": "stream",
     "text": [
      "C:\\tools\\Anaconda3\\lib\\site-packages\\sklearn\\neighbors\\_classification.py:228: FutureWarning: Unlike other reduction functions (e.g. `skew`, `kurtosis`), the default behavior of `mode` typically preserves the axis it acts along. In SciPy 1.11.0, this behavior will change: the default value of `keepdims` will become False, the `axis` over which the statistic is taken will be eliminated, and the value None will no longer be accepted. Set `keepdims` to True or False to avoid this warning.\n",
      "  mode, _ = stats.mode(_y[neigh_ind, k], axis=1)\n"
     ]
    }
   ],
   "source": [
    "# Classification model to predict the fish species\n",
    "# Load modules and packages\n",
    "import pandas as pd\n",
    "from sklearn.model_selection import train_test_split as split\n",
    "from sklearn.neighbors import KNeighborsClassifier\n",
    "from sklearn.tree import DecisionTreeClassifier\n",
    "# Load dataset\n",
    "file = 'https://raw.githubusercontent.com/wooihaw/datasets/main/fish.csv'\n",
    "df = pd.read_csv(file)\n",
    "# Dimension of dataset\n",
    "print(df.shape)\n",
    "# preview 10 lines of data\n",
    "print(df.sample(10))\n",
    "# Descriptive statistics\n",
    "print(df.describe())\n",
    "# Split dataset into training and testing sets\n",
    "X = df.drop(columns=[\"Species\"])\n",
    "y = df[\"Species\"]\n",
    "X_train, X_test, y_train, y_test = split(X, y, test_size=0.25, random_state=42)\n",
    "# Train and evaluate a k-NN model with k=1\n",
    "knn = KNeighborsClassifier(n_neighbors=1).fit(X_train, y_train)\n",
    "print(f\"knn accuracy: {knn.score(X_test, y_test)}\")\n",
    "# Train and evaluate a decision tree model with max_depth=1\n",
    "dtc = DecisionTreeClassifier(random_state=42, max_depth=1).fit(X_train, y_train)\n",
    "print(f\"dtc accuracy: {dtc.score(X_test, y_test)}\")\n"
   ]
  },
  {
   "cell_type": "code",
   "execution_count": 13,
   "metadata": {
    "colab": {
     "base_uri": "https://localhost:8080/"
    },
    "executionInfo": {
     "elapsed": 35,
     "status": "ok",
     "timestamp": 1695024060872,
     "user": {
      "displayName": "ONG XI ZE",
      "userId": "07825027605183108100"
     },
     "user_tz": -480
    },
    "id": "4b9fg4GcBSXy",
    "outputId": "4c962204-69b0-43a4-b4a3-85587151f718"
   },
   "outputs": [
    {
     "name": "stdout",
     "output_type": "stream",
     "text": [
      "Dataset dimensions: (159, 7)\n",
      "Training set dimensions: (119, 6)\n",
      "Testing set dimensions: (40, 6)\n"
     ]
    }
   ],
   "source": [
    "#3. TO check the dimensions of dataset, training set (X_train) and testing set (X_test)\n",
    "print(\"Dataset dimensions:\", df.shape)\n",
    "print(\"Training set dimensions:\", X_train.shape)\n",
    "print(\"Testing set dimensions:\", X_test.shape)\n",
    "\n"
   ]
  },
  {
   "cell_type": "code",
   "execution_count": 14,
   "metadata": {
    "colab": {
     "base_uri": "https://localhost:8080/"
    },
    "executionInfo": {
     "elapsed": 33,
     "status": "ok",
     "timestamp": 1695024060873,
     "user": {
      "displayName": "ONG XI ZE",
      "userId": "07825027605183108100"
     },
     "user_tz": -480
    },
    "id": "j6fkvHMRBxSE",
    "outputId": "ed9638bc-20b8-41d3-e437-044241be905e"
   },
   "outputs": [
    {
     "name": "stdout",
     "output_type": "stream",
     "text": [
      "Number of features: 6\n"
     ]
    }
   ],
   "source": [
    "#4.To find out how many features are there in the dataset\n",
    "num_features = X_train.shape[1]\n",
    "print(\"Number of features:\", num_features)\n",
    "\n"
   ]
  },
  {
   "cell_type": "code",
   "execution_count": 15,
   "metadata": {
    "colab": {
     "base_uri": "https://localhost:8080/"
    },
    "executionInfo": {
     "elapsed": 29,
     "status": "ok",
     "timestamp": 1695024060873,
     "user": {
      "displayName": "ONG XI ZE",
      "userId": "07825027605183108100"
     },
     "user_tz": -480
    },
    "id": "hBRQjZmtCIjk",
    "outputId": "7e392e8c-174c-47cb-c59c-1291eb721871"
   },
   "outputs": [
    {
     "name": "stdout",
     "output_type": "stream",
     "text": [
      "Training set dimensions: (119, 6)\n",
      "Testing set dimensions: (40, 6)\n"
     ]
    }
   ],
   "source": [
    "#Data samples in in training and testing set\n",
    "print(\"Training set dimensions:\", X_train.shape)\n",
    "print(\"Testing set dimensions:\", X_test.shape)"
   ]
  },
  {
   "cell_type": "code",
   "execution_count": 16,
   "metadata": {
    "colab": {
     "base_uri": "https://localhost:8080/"
    },
    "executionInfo": {
     "elapsed": 25,
     "status": "ok",
     "timestamp": 1695024060874,
     "user": {
      "displayName": "ONG XI ZE",
      "userId": "07825027605183108100"
     },
     "user_tz": -480
    },
    "id": "mLrs-bNQDAD3",
    "outputId": "b4364265-9898-45e1-d6d3-9a6764960d7f"
   },
   "outputs": [
    {
     "name": "stdout",
     "output_type": "stream",
     "text": [
      "k-NN accuracy with k=3: 0.475\n",
      "k-NN accuracy with k=5: 0.6\n",
      "k-NN accuracy with k=7: 0.575\n",
      "k-NN accuracy with k=9: 0.6\n"
     ]
    },
    {
     "name": "stderr",
     "output_type": "stream",
     "text": [
      "C:\\tools\\Anaconda3\\lib\\site-packages\\sklearn\\neighbors\\_classification.py:228: FutureWarning: Unlike other reduction functions (e.g. `skew`, `kurtosis`), the default behavior of `mode` typically preserves the axis it acts along. In SciPy 1.11.0, this behavior will change: the default value of `keepdims` will become False, the `axis` over which the statistic is taken will be eliminated, and the value None will no longer be accepted. Set `keepdims` to True or False to avoid this warning.\n",
      "  mode, _ = stats.mode(_y[neigh_ind, k], axis=1)\n",
      "C:\\tools\\Anaconda3\\lib\\site-packages\\sklearn\\neighbors\\_classification.py:228: FutureWarning: Unlike other reduction functions (e.g. `skew`, `kurtosis`), the default behavior of `mode` typically preserves the axis it acts along. In SciPy 1.11.0, this behavior will change: the default value of `keepdims` will become False, the `axis` over which the statistic is taken will be eliminated, and the value None will no longer be accepted. Set `keepdims` to True or False to avoid this warning.\n",
      "  mode, _ = stats.mode(_y[neigh_ind, k], axis=1)\n",
      "C:\\tools\\Anaconda3\\lib\\site-packages\\sklearn\\neighbors\\_classification.py:228: FutureWarning: Unlike other reduction functions (e.g. `skew`, `kurtosis`), the default behavior of `mode` typically preserves the axis it acts along. In SciPy 1.11.0, this behavior will change: the default value of `keepdims` will become False, the `axis` over which the statistic is taken will be eliminated, and the value None will no longer be accepted. Set `keepdims` to True or False to avoid this warning.\n",
      "  mode, _ = stats.mode(_y[neigh_ind, k], axis=1)\n",
      "C:\\tools\\Anaconda3\\lib\\site-packages\\sklearn\\neighbors\\_classification.py:228: FutureWarning: Unlike other reduction functions (e.g. `skew`, `kurtosis`), the default behavior of `mode` typically preserves the axis it acts along. In SciPy 1.11.0, this behavior will change: the default value of `keepdims` will become False, the `axis` over which the statistic is taken will be eliminated, and the value None will no longer be accepted. Set `keepdims` to True or False to avoid this warning.\n",
      "  mode, _ = stats.mode(_y[neigh_ind, k], axis=1)\n"
     ]
    }
   ],
   "source": [
    "#To train and evaluate the performance of K-nearest neighbours (k-NN) classifier or different values of k (3, 5, 7 and 9)\n",
    "k_values = [3, 5, 7, 9]\n",
    "for k in k_values:\n",
    "    knn = KNeighborsClassifier(n_neighbors=k).fit(X_train, y_train)\n",
    "    accuracy = knn.score(X_test, y_test)\n",
    "    print(f\"k-NN accuracy with k={k}: {accuracy}\")\n"
   ]
  },
  {
   "cell_type": "code",
   "execution_count": 17,
   "metadata": {
    "colab": {
     "base_uri": "https://localhost:8080/"
    },
    "executionInfo": {
     "elapsed": 22,
     "status": "ok",
     "timestamp": 1695024060875,
     "user": {
      "displayName": "ONG XI ZE",
      "userId": "07825027605183108100"
     },
     "user_tz": -480
    },
    "id": "60Uo02-tE87T",
    "outputId": "df4e151e-792b-44a9-d281-5e718f889531"
   },
   "outputs": [
    {
     "name": "stdout",
     "output_type": "stream",
     "text": [
      "Decision tree accuracy with max_depth=2: 0.675\n",
      "Decision tree accuracy with max_depth=3: 0.7\n",
      "Decision tree accuracy with max_depth=4: 0.7\n",
      "Decision tree accuracy with max_depth=5: 0.725\n",
      "Decision tree accuracy with max_depth=6: 0.625\n",
      "Decision tree accuracy with max_depth=7: 0.75\n",
      "Decision tree accuracy with max_depth=8: 0.775\n",
      "Decision tree accuracy with max_depth=9: 0.7\n",
      "Decision tree accuracy with max_depth=10: 0.725\n"
     ]
    }
   ],
   "source": [
    "#To train and evaluate the performance of decision tree clasifier for different values of max_depth (from 2 to 10)\n",
    "\n",
    "max_depth_values = list(range(2, 11))\n",
    "for depth in max_depth_values:\n",
    "    dtc = DecisionTreeClassifier(random_state=42, max_depth=depth).fit(X_train, y_train)\n",
    "    accuracy = dtc.score(X_test, y_test)\n",
    "    print(f\"Decision tree accuracy with max_depth={depth}: {accuracy}\")\n"
   ]
  },
  {
   "cell_type": "markdown",
   "metadata": {
    "id": "H9OTBA9QIPFq"
   },
   "source": [
    "Question 8 , Based on the coded answers displayed by both models K-NN and decision tree ,  it is found that the **Decision tree** provides a much optimum solution where its value is higher in range compared to K-NN with Optimum value for the **hyperparameter which is the value of 0.775**"
   ]
  }
 ],
 "metadata": {
  "colab": {
   "authorship_tag": "ABX9TyO+nzZCSFjdqQnsBRIjqrxF",
   "provenance": []
  },
  "kernelspec": {
   "display_name": "Python 3 (ipykernel)",
   "language": "python",
   "name": "python3"
  },
  "language_info": {
   "codemirror_mode": {
    "name": "ipython",
    "version": 3
   },
   "file_extension": ".py",
   "mimetype": "text/x-python",
   "name": "python",
   "nbconvert_exporter": "python",
   "pygments_lexer": "ipython3",
   "version": "3.9.13"
  }
 },
 "nbformat": 4,
 "nbformat_minor": 1
}
