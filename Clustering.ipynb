{
  "nbformat": 4,
  "nbformat_minor": 0,
  "metadata": {
    "colab": {
      "provenance": [],
      "authorship_tag": "ABX9TyNFr7AT834q7vIlxRl/y33I",
      "include_colab_link": true
    },
    "kernelspec": {
      "name": "python3",
      "display_name": "Python 3"
    },
    "language_info": {
      "name": "python"
    }
  },
  "cells": [
    {
      "cell_type": "markdown",
      "metadata": {
        "id": "view-in-github",
        "colab_type": "text"
      },
      "source": [
        "<a href=\"https://colab.research.google.com/github/ACE6233/Machine-Learning/blob/main/Clustering.ipynb\" target=\"_parent\"><img src=\"https://colab.research.google.com/assets/colab-badge.svg\" alt=\"Open In Colab\"/></a>"
      ]
    },
    {
      "cell_type": "markdown",
      "source": [
        "## Clustering"
      ],
      "metadata": {
        "id": "sIhqXt0ICgob"
      }
    },
    {
      "cell_type": "markdown",
      "source": [
        "#### 1. k-Means Clustering"
      ],
      "metadata": {
        "id": "E465CTOh3_dC"
      }
    },
    {
      "cell_type": "markdown",
      "source": [
        "Import the libraries"
      ],
      "metadata": {
        "id": "763tKA_EMYFF"
      }
    },
    {
      "cell_type": "code",
      "source": [
        "%matplotlib inline\n",
        "from sklearn.cluster import KMeans\n",
        "from sklearn.datasets import make_blobs\n",
        "from sklearn.metrics import silhouette_score\n",
        "import matplotlib.pyplot as plt"
      ],
      "metadata": {
        "id": "-HhlejeYMaAw"
      },
      "execution_count": null,
      "outputs": []
    },
    {
      "cell_type": "markdown",
      "source": [
        "Create the data"
      ],
      "metadata": {
        "id": "E3kSAMFBMf7y"
      }
    },
    {
      "cell_type": "code",
      "source": [
        "X, y = make_blobs(centers=3, cluster_std=2, random_state=42)"
      ],
      "metadata": {
        "id": "n8IMvlJGMjnu"
      },
      "execution_count": null,
      "outputs": []
    },
    {
      "cell_type": "markdown",
      "source": [
        "k-Means Clustering"
      ],
      "metadata": {
        "id": "VTO6jtwDMnBo"
      }
    },
    {
      "cell_type": "code",
      "execution_count": null,
      "metadata": {
        "id": "45waP3s79_aq"
      },
      "outputs": [],
      "source": [
        "from warnings import filterwarnings\n",
        "filterwarnings('ignore')"
      ]
    },
    {
      "cell_type": "markdown",
      "source": [
        "Training"
      ],
      "metadata": {
        "id": "5JV1PqJ3xN3i"
      }
    },
    {
      "cell_type": "code",
      "source": [
        "km = KMeans(n_clusters=3).fit(X)"
      ],
      "metadata": {
        "id": "ptqyY1XmMrrF"
      },
      "execution_count": null,
      "outputs": []
    },
    {
      "cell_type": "markdown",
      "source": [
        "Show the result"
      ],
      "metadata": {
        "id": "PBcPlUmiMtY7"
      }
    },
    {
      "cell_type": "code",
      "source": [
        "fig, (ax1, ax2) = plt.subplots(1, 2, figsize=(8, 4))\n",
        "fig.suptitle('k-means Clustering')\n",
        "ax1.scatter(X[:, 0], X[:, 1])\n",
        "ax1.set_title('Before clustering')\n",
        "ax2.scatter(X[:, 0], X[:, 1], c=km.labels_)\n",
        "ax2.set_title('After clustering')"
      ],
      "metadata": {
        "id": "gLLAefaWDCfA"
      },
      "execution_count": null,
      "outputs": []
    },
    {
      "cell_type": "markdown",
      "source": [
        "Silhouette Coefficient is commonly used as the performance metric of clustering"
      ],
      "metadata": {
        "id": "76W9Z0Gu9mgs"
      }
    },
    {
      "cell_type": "code",
      "source": [
        "print(f\"Silhouette Coefficient: {silhouette_score(X, km.labels_):.3f}\")"
      ],
      "metadata": {
        "id": "7Aa7EAZv9mhC"
      },
      "execution_count": null,
      "outputs": []
    }
  ]
}