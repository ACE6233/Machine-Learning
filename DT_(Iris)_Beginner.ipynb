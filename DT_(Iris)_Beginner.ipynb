{
  "cells": [
    {
      "cell_type": "markdown",
      "metadata": {
        "id": "view-in-github",
        "colab_type": "text"
      },
      "source": [
        "<a href=\"https://colab.research.google.com/github/ACE6233/Machine-Learning/blob/main/DT_(Iris)_Beginner.ipynb\" target=\"_parent\"><img src=\"https://colab.research.google.com/assets/colab-badge.svg\" alt=\"Open In Colab\"/></a>"
      ]
    },
    {
      "cell_type": "markdown",
      "source": [
        "### Classification: For Beginners"
      ],
      "metadata": {
        "id": "APXFe_tFZVU4"
      },
      "id": "APXFe_tFZVU4"
    },
    {
      "cell_type": "markdown",
      "metadata": {
        "id": "Z3OzOd1CbsaB"
      },
      "source": [
        "#### Step 1: Choose a dataset to work with."
      ],
      "id": "Z3OzOd1CbsaB"
    },
    {
      "cell_type": "markdown",
      "metadata": {
        "id": "kjMfK_sC-Dv7"
      },
      "source": [
        "Here, we choose the Iris dataset, which is one of the simplest and it comes with the Scikit-learn."
      ],
      "id": "kjMfK_sC-Dv7"
    },
    {
      "cell_type": "code",
      "source": [
        "from sklearn.datasets import load_iris"
      ],
      "metadata": {
        "id": "4_zW8aNgcM0J"
      },
      "execution_count": null,
      "outputs": [],
      "id": "4_zW8aNgcM0J"
    },
    {
      "cell_type": "markdown",
      "metadata": {
        "collapsed": true,
        "id": "ytFaY-Jqv2JQ"
      },
      "source": [
        "The Iris dataset is one of datasets Scikit-learn comes with that do not require the downloading of any file from some external website. The code below loads the Iris dataset."
      ],
      "id": "ytFaY-Jqv2JQ"
    },
    {
      "cell_type": "code",
      "source": [
        "iris_data = load_iris()"
      ],
      "metadata": {
        "id": "H6p92LbfcZNG"
      },
      "execution_count": null,
      "outputs": [],
      "id": "H6p92LbfcZNG"
    },
    {
      "cell_type": "markdown",
      "source": [
        "In any dataset, there are:  \n",
        "1. Data samples"
      ],
      "metadata": {
        "id": "hQJvXxKGRc9z"
      },
      "id": "hQJvXxKGRc9z"
    },
    {
      "cell_type": "code",
      "source": [
        "data_samples = iris_data.data"
      ],
      "metadata": {
        "id": "QWNVzytERw93"
      },
      "execution_count": null,
      "outputs": [],
      "id": "QWNVzytERw93"
    },
    {
      "cell_type": "markdown",
      "source": [
        "2. In each sample, there are **features**."
      ],
      "metadata": {
        "id": "yaTcv7kSSCvY"
      },
      "id": "yaTcv7kSSCvY"
    },
    {
      "cell_type": "code",
      "source": [
        "data_features = iris_data.feature_names"
      ],
      "metadata": {
        "id": "jJp93hDWSI--"
      },
      "execution_count": null,
      "outputs": [],
      "id": "jJp93hDWSI--"
    },
    {
      "cell_type": "markdown",
      "source": [
        "Question: What are the features?"
      ],
      "metadata": {
        "id": "qNreOzvHTvkt"
      },
      "id": "qNreOzvHTvkt"
    },
    {
      "cell_type": "code",
      "source": [],
      "metadata": {
        "id": "pflanbpLTyfp"
      },
      "execution_count": null,
      "outputs": [],
      "id": "pflanbpLTyfp"
    },
    {
      "cell_type": "markdown",
      "source": [
        "3. In each sample, there is a **target** (label) too."
      ],
      "metadata": {
        "id": "w7RKrtiRS5rr"
      },
      "id": "w7RKrtiRS5rr"
    },
    {
      "cell_type": "code",
      "source": [
        "data_target = iris_data.target"
      ],
      "metadata": {
        "id": "xF28Y2izTDjx"
      },
      "execution_count": null,
      "outputs": [],
      "id": "xF28Y2izTDjx"
    },
    {
      "cell_type": "markdown",
      "source": [
        "Question: How many targets or classes, and what are their names?"
      ],
      "metadata": {
        "id": "YUEncnFrUh6u"
      },
      "id": "YUEncnFrUh6u"
    },
    {
      "cell_type": "code",
      "source": [
        "data_classes = iris_data.target_names"
      ],
      "metadata": {
        "id": "oczBqDfiUp0y"
      },
      "execution_count": null,
      "outputs": [],
      "id": "oczBqDfiUp0y"
    },
    {
      "cell_type": "code",
      "source": [],
      "metadata": {
        "id": "rKEx3zQPU7hL"
      },
      "execution_count": null,
      "outputs": [],
      "id": "rKEx3zQPU7hL"
    },
    {
      "cell_type": "markdown",
      "source": [
        "#### Step 2. For easy visualization and manipulation of the dataset, use the Pandas library."
      ],
      "metadata": {
        "id": "2IVha_Ibcbg9"
      },
      "id": "2IVha_Ibcbg9"
    },
    {
      "cell_type": "markdown",
      "source": [
        "We need to first import the Pandas library."
      ],
      "metadata": {
        "id": "GDHRFSxZfR-o"
      },
      "id": "GDHRFSxZfR-o"
    },
    {
      "cell_type": "code",
      "source": [
        "import pandas as pd"
      ],
      "metadata": {
        "id": "OjhKC5WKcpO1"
      },
      "execution_count": null,
      "outputs": [],
      "id": "OjhKC5WKcpO1"
    },
    {
      "cell_type": "markdown",
      "source": [
        "Store our data in the form of Pandas **DataFrame**."
      ],
      "metadata": {
        "id": "l64pPVLwhAWN"
      },
      "id": "l64pPVLwhAWN"
    },
    {
      "cell_type": "code",
      "execution_count": null,
      "metadata": {
        "id": "m6-_DCYlv2JR"
      },
      "outputs": [],
      "source": [
        "df = pd.DataFrame(data_samples, columns=data_features)"
      ],
      "id": "m6-_DCYlv2JR"
    },
    {
      "cell_type": "code",
      "source": [
        "df['target'] = data_target"
      ],
      "metadata": {
        "id": "ftslyzHZhHJv"
      },
      "execution_count": null,
      "outputs": [],
      "id": "ftslyzHZhHJv"
    },
    {
      "cell_type": "markdown",
      "metadata": {
        "id": "PGFrs19OlqK2"
      },
      "source": [
        "We can examine the first few data samples."
      ],
      "id": "PGFrs19OlqK2"
    },
    {
      "cell_type": "code",
      "source": [
        "df.head()"
      ],
      "metadata": {
        "id": "3tTJIOZCDLC-"
      },
      "execution_count": null,
      "outputs": [],
      "id": "3tTJIOZCDLC-"
    },
    {
      "cell_type": "markdown",
      "source": [
        "What is the size of our data?"
      ],
      "metadata": {
        "id": "ApZ7lRyZVhvq"
      },
      "id": "ApZ7lRyZVhvq"
    },
    {
      "cell_type": "code",
      "execution_count": null,
      "metadata": {
        "id": "qG-C-hLRv7CX"
      },
      "outputs": [],
      "source": [
        "df.shape"
      ],
      "id": "qG-C-hLRv7CX"
    },
    {
      "cell_type": "markdown",
      "source": [
        "What are the statistics of our data?"
      ],
      "metadata": {
        "id": "2qhPr82OCr_6"
      },
      "id": "2qhPr82OCr_6"
    },
    {
      "cell_type": "code",
      "execution_count": null,
      "metadata": {
        "id": "xm1LqgQmwFmz"
      },
      "outputs": [],
      "source": [
        "df.describe()"
      ],
      "id": "xm1LqgQmwFmz"
    },
    {
      "cell_type": "markdown",
      "source": [
        "What is the size of each class?"
      ],
      "metadata": {
        "id": "jdaFk79pCymB"
      },
      "id": "jdaFk79pCymB"
    },
    {
      "cell_type": "code",
      "execution_count": null,
      "metadata": {
        "id": "ec-v6fKMwdSq"
      },
      "outputs": [],
      "source": [
        "df.groupby('target').size()"
      ],
      "id": "ec-v6fKMwdSq"
    },
    {
      "cell_type": "markdown",
      "metadata": {
        "id": "fzclCAR5l6rO"
      },
      "source": [
        "Data visualizations (Histograms)"
      ],
      "id": "fzclCAR5l6rO"
    },
    {
      "cell_type": "code",
      "execution_count": null,
      "metadata": {
        "id": "jCCReXSWwhjX"
      },
      "outputs": [],
      "source": [
        "df.hist()"
      ],
      "id": "jCCReXSWwhjX"
    },
    {
      "cell_type": "markdown",
      "source": [
        "#### Step 3: Prepare Data for Training and Testing"
      ],
      "metadata": {
        "id": "49SHPrIR_96J"
      },
      "id": "49SHPrIR_96J"
    },
    {
      "cell_type": "markdown",
      "metadata": {
        "id": "4PDPgj_rmGcD"
      },
      "source": [
        "Split the data into 2 sets, one for training and the other for testing."
      ],
      "id": "4PDPgj_rmGcD"
    },
    {
      "cell_type": "code",
      "execution_count": null,
      "metadata": {
        "id": "08eebced"
      },
      "outputs": [],
      "source": [
        "array = df.values\n",
        "X = array[:, 0:4] # All columns before the last one are Features\n",
        "y = array[:, 4] # Last column is the Target\n",
        "test_size = 0.20\n",
        "seed = 7"
      ],
      "id": "08eebced"
    },
    {
      "cell_type": "markdown",
      "source": [
        "Need to import the train_test_split() function, which will split the data into random train and test subsets."
      ],
      "metadata": {
        "id": "bf5yb75AX0ej"
      },
      "id": "bf5yb75AX0ej"
    },
    {
      "cell_type": "code",
      "source": [
        "from sklearn.model_selection import train_test_split"
      ],
      "metadata": {
        "id": "NXAedJHDYpPO"
      },
      "execution_count": null,
      "outputs": [],
      "id": "NXAedJHDYpPO"
    },
    {
      "cell_type": "code",
      "source": [
        "X_train, X_test, y_train, y_test = train_test_split(X, y, test_size=test_size, random_state=seed)"
      ],
      "metadata": {
        "id": "3Qn1azfgXQnz"
      },
      "execution_count": null,
      "outputs": [],
      "id": "3Qn1azfgXQnz"
    },
    {
      "cell_type": "markdown",
      "metadata": {
        "id": "dfaac116"
      },
      "source": [
        "Check the dimensions of train set (X_train) and test set (X_test). How many data samples are there in the train set and test set?"
      ],
      "id": "dfaac116"
    },
    {
      "cell_type": "code",
      "source": [
        "X_train.shape"
      ],
      "metadata": {
        "id": "exXjZRcRltPZ"
      },
      "execution_count": null,
      "outputs": [],
      "id": "exXjZRcRltPZ"
    },
    {
      "cell_type": "code",
      "execution_count": null,
      "metadata": {
        "id": "17e578fe"
      },
      "outputs": [],
      "source": [
        "X_test.shape"
      ],
      "id": "17e578fe"
    },
    {
      "cell_type": "markdown",
      "metadata": {
        "id": "9JGKfaBXlYfO"
      },
      "source": [
        "#### Step 4: Choose a method for the machine learning task.\n",
        "Here, we choose to use the **Decision Tree** method for classification."
      ],
      "id": "9JGKfaBXlYfO"
    },
    {
      "cell_type": "markdown",
      "source": [
        "Import the **Decision Tree** classifier from the Scikit-learn library."
      ],
      "metadata": {
        "id": "mxT5HUVnatBb"
      },
      "id": "mxT5HUVnatBb"
    },
    {
      "cell_type": "code",
      "source": [
        "from sklearn.tree import DecisionTreeClassifier as DTC"
      ],
      "metadata": {
        "id": "BfsfRBGVkYRZ"
      },
      "id": "BfsfRBGVkYRZ",
      "execution_count": null,
      "outputs": []
    },
    {
      "cell_type": "markdown",
      "source": [
        "#### Step 5: Training, followed by Testing"
      ],
      "metadata": {
        "id": "uJtYHJTta9b8"
      },
      "id": "uJtYHJTta9b8"
    },
    {
      "cell_type": "code",
      "execution_count": null,
      "id": "53bab21e",
      "metadata": {
        "id": "53bab21e"
      },
      "outputs": [],
      "source": [
        "dtc = DTC().fit(X_train, y_train)"
      ]
    },
    {
      "cell_type": "markdown",
      "source": [
        "After fitting (training), test the trained model."
      ],
      "metadata": {
        "id": "0APGWtJskd4v"
      },
      "id": "0APGWtJskd4v"
    },
    {
      "cell_type": "code",
      "execution_count": null,
      "id": "fce34322",
      "metadata": {
        "id": "fce34322"
      },
      "outputs": [],
      "source": [
        "result = dtc.score(X_test, y_test)\n",
        "print(f'Accuracy: {100 * result:.2f} %')"
      ]
    },
    {
      "cell_type": "markdown",
      "source": [
        "*Can you show the tree?*"
      ],
      "metadata": {
        "id": "-t9PaZ14cyrF"
      },
      "id": "-t9PaZ14cyrF"
    },
    {
      "cell_type": "markdown",
      "source": [
        "Need to use the plot_tree() method that is available in Scikit-learn."
      ],
      "metadata": {
        "id": "Hi4OKrZ6dBFx"
      },
      "id": "Hi4OKrZ6dBFx"
    },
    {
      "cell_type": "code",
      "source": [
        "from sklearn.tree import plot_tree"
      ],
      "metadata": {
        "id": "E4a35UQfc1J8"
      },
      "id": "E4a35UQfc1J8",
      "execution_count": null,
      "outputs": []
    },
    {
      "cell_type": "code",
      "source": [
        "plot_tree(dtc,\n",
        "          feature_names = data_features,\n",
        "          class_names = data_classes,\n",
        "          filled = True);"
      ],
      "metadata": {
        "id": "u_SqrDPUdSzZ"
      },
      "id": "u_SqrDPUdSzZ",
      "execution_count": null,
      "outputs": []
    }
  ],
  "metadata": {
    "colab": {
      "provenance": [],
      "include_colab_link": true
    },
    "kernelspec": {
      "display_name": "Python 3 (ipykernel)",
      "language": "python",
      "name": "python3"
    },
    "language_info": {
      "codemirror_mode": {
        "name": "ipython",
        "version": 3
      },
      "file_extension": ".py",
      "mimetype": "text/x-python",
      "name": "python",
      "nbconvert_exporter": "python",
      "pygments_lexer": "ipython3",
      "version": "3.9.13"
    }
  },
  "nbformat": 4,
  "nbformat_minor": 5
}