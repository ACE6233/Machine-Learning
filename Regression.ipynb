{
  "nbformat": 4,
  "nbformat_minor": 0,
  "metadata": {
    "colab": {
      "provenance": [],
      "authorship_tag": "ABX9TyPlfsJck21SUVBrwiSVX+PC",
      "include_colab_link": true
    },
    "kernelspec": {
      "name": "python3",
      "display_name": "Python 3"
    },
    "language_info": {
      "name": "python"
    }
  },
  "cells": [
    {
      "cell_type": "markdown",
      "metadata": {
        "id": "view-in-github",
        "colab_type": "text"
      },
      "source": [
        "<a href=\"https://colab.research.google.com/github/ACE6233/Machine-Learning/blob/main/Regression.ipynb\" target=\"_parent\"><img src=\"https://colab.research.google.com/assets/colab-badge.svg\" alt=\"Open In Colab\"/></a>"
      ]
    },
    {
      "cell_type": "markdown",
      "source": [
        "## Regression"
      ],
      "metadata": {
        "id": "31J4WyvESsqW"
      }
    },
    {
      "cell_type": "markdown",
      "source": [
        "Choose the Boston dataset (in CSV file format)"
      ],
      "metadata": {
        "id": "1l7cRdR5RTUY"
      }
    },
    {
      "cell_type": "code",
      "source": [
        "# from sklearn.datasets import load_boston # Don't run this code"
      ],
      "metadata": {
        "id": "wXehAA1up5gN"
      },
      "execution_count": null,
      "outputs": []
    },
    {
      "cell_type": "code",
      "source": [
        "data_url = \"http://lib.stat.cmu.edu/datasets/boston\""
      ],
      "metadata": {
        "id": "gCXhtS8qk7Ic"
      },
      "execution_count": null,
      "outputs": []
    },
    {
      "cell_type": "markdown",
      "source": [
        "Use the read_csv() method from the Pandas library to extract the data from its CSV file."
      ],
      "metadata": {
        "id": "TvvNey1bk-_Q"
      }
    },
    {
      "cell_type": "code",
      "source": [
        "from pandas import read_csv"
      ],
      "metadata": {
        "id": "XIwIBmW7lXLY"
      },
      "execution_count": null,
      "outputs": []
    },
    {
      "cell_type": "code",
      "source": [
        "raw_df = read_csv(data_url, sep=\"\\s+\", skiprows=22, header=None)"
      ],
      "metadata": {
        "id": "GxEDjAzLRV3E"
      },
      "execution_count": null,
      "outputs": []
    },
    {
      "cell_type": "markdown",
      "source": [
        "Use the hstack() method from the Numpy library to stack arrays in sequence horizontally."
      ],
      "metadata": {
        "id": "-UuvKPvilrU_"
      }
    },
    {
      "cell_type": "code",
      "source": [
        "from numpy import hstack"
      ],
      "metadata": {
        "id": "aTv4LyMQRI8_"
      },
      "execution_count": null,
      "outputs": []
    },
    {
      "cell_type": "code",
      "source": [
        "data = hstack([raw_df.values[::2, :], raw_df.values[1::2, :2]])\n",
        "target = raw_df.values[1::2, 2]"
      ],
      "metadata": {
        "id": "tO8F2vhLlRpC"
      },
      "execution_count": null,
      "outputs": []
    },
    {
      "cell_type": "code",
      "source": [
        "data.shape, target.shape"
      ],
      "metadata": {
        "id": "BHMXdvozmKdZ"
      },
      "execution_count": null,
      "outputs": []
    },
    {
      "cell_type": "markdown",
      "source": [
        "View the first few rows of Numpy arrays"
      ],
      "metadata": {
        "id": "3NzUk-ITo03E"
      }
    },
    {
      "cell_type": "code",
      "source": [
        "data[:3], target[:3]"
      ],
      "metadata": {
        "id": "suIwa54EnP33"
      },
      "execution_count": null,
      "outputs": []
    },
    {
      "cell_type": "markdown",
      "source": [
        "Split the Training and Testing data"
      ],
      "metadata": {
        "id": "_eKhVt5XjDEh"
      }
    },
    {
      "cell_type": "code",
      "source": [
        "from sklearn.model_selection import train_test_split as split"
      ],
      "metadata": {
        "id": "3uL8eON7jWCF"
      },
      "execution_count": null,
      "outputs": []
    },
    {
      "cell_type": "code",
      "source": [
        "X_train, X_test, y_train, y_test = split(data, target, test_size=0.25, random_state=42)"
      ],
      "metadata": {
        "id": "pws8QFwwjJcA"
      },
      "execution_count": null,
      "outputs": []
    },
    {
      "cell_type": "markdown",
      "source": [
        "Regression Method 1. Linear Regression"
      ],
      "metadata": {
        "id": "lvxXwV363fVJ"
      }
    },
    {
      "cell_type": "code",
      "source": [
        "from sklearn.linear_model import LinearRegression as LR"
      ],
      "metadata": {
        "id": "Ueizl0KVkE-w"
      },
      "execution_count": null,
      "outputs": []
    },
    {
      "cell_type": "code",
      "execution_count": null,
      "metadata": {
        "id": "3oVsYDsbSl1a"
      },
      "outputs": [],
      "source": [
        "lnr = LR().fit(X_train, y_train)\n",
        "print(f'R2 score: {lnr.score(X_test, y_test):.2f}')"
      ]
    },
    {
      "cell_type": "markdown",
      "source": [
        "Note that regression performance is measured by the R2 score."
      ],
      "metadata": {
        "id": "bhU1EndLkSpD"
      }
    },
    {
      "cell_type": "markdown",
      "source": [
        "Regression Method 2. k-Nearest Neighbors"
      ],
      "metadata": {
        "id": "wVg8SSLgUxxM"
      }
    },
    {
      "cell_type": "code",
      "source": [
        "from sklearn.neighbors import KNeighborsRegressor as KNR"
      ],
      "metadata": {
        "id": "C378dp3hjlah"
      },
      "execution_count": null,
      "outputs": []
    },
    {
      "cell_type": "code",
      "source": [
        "knr = KNR().fit(X_train, y_train)\n",
        "print(f'R2 score: {knr.score(X_test, y_test):.2f}')"
      ],
      "metadata": {
        "id": "Pl4A3VvXU2JV"
      },
      "execution_count": null,
      "outputs": []
    },
    {
      "cell_type": "markdown",
      "source": [
        "*What is the optimal number of nearest neighbors?*"
      ],
      "metadata": {
        "id": "Mgroh0QLjz4d"
      }
    },
    {
      "cell_type": "code",
      "source": [
        "knr = KNR(n_neighbors=5).fit(X_train, y_train)\n",
        "print(f'R2 score: {knr.score(X_test, y_test):.2f}')"
      ],
      "metadata": {
        "id": "AIyJickFjzXD"
      },
      "execution_count": null,
      "outputs": []
    }
  ]
}