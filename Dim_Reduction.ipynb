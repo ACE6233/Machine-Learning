{
  "nbformat": 4,
  "nbformat_minor": 0,
  "metadata": {
    "colab": {
      "provenance": [],
      "authorship_tag": "ABX9TyMiUKUMySaxpDSQJIfIMvvJ",
      "include_colab_link": true
    },
    "kernelspec": {
      "name": "python3",
      "display_name": "Python 3"
    },
    "language_info": {
      "name": "python"
    }
  },
  "cells": [
    {
      "cell_type": "markdown",
      "metadata": {
        "id": "view-in-github",
        "colab_type": "text"
      },
      "source": [
        "<a href=\"https://colab.research.google.com/github/ACE6233/Machine-Learning/blob/main/Dim_Reduction.ipynb\" target=\"_parent\"><img src=\"https://colab.research.google.com/assets/colab-badge.svg\" alt=\"Open In Colab\"/></a>"
      ]
    },
    {
      "cell_type": "markdown",
      "source": [
        "## Dimensionality Reduction"
      ],
      "metadata": {
        "id": "vq90zBGXD6mg"
      }
    },
    {
      "cell_type": "markdown",
      "source": [
        "Import the libraries"
      ],
      "metadata": {
        "id": "mJY0ALpKNChB"
      }
    },
    {
      "cell_type": "code",
      "source": [
        "from sklearn.decomposition import PCA\n",
        "from sklearn.datasets import load_digits"
      ],
      "metadata": {
        "id": "5yvAtiAONEu-"
      },
      "execution_count": null,
      "outputs": []
    },
    {
      "cell_type": "markdown",
      "source": [
        "Load the dataset"
      ],
      "metadata": {
        "id": "tUXuk6A7NL1R"
      }
    },
    {
      "cell_type": "code",
      "source": [
        "X, y = load_digits(return_X_y=True)"
      ],
      "metadata": {
        "id": "igI2eygCNP7Y"
      },
      "execution_count": null,
      "outputs": []
    },
    {
      "cell_type": "markdown",
      "source": [
        "### 1. Principal Component Analysis (PCA)"
      ],
      "metadata": {
        "id": "a64-41-F4Eq_"
      }
    },
    {
      "cell_type": "code",
      "source": [
        "pca = PCA(n_components=24)\n",
        "X_reduced = pca.fit_transform(X)"
      ],
      "metadata": {
        "id": "Q6BtHfgYEKKJ"
      },
      "execution_count": null,
      "outputs": []
    },
    {
      "cell_type": "markdown",
      "source": [
        "*What is the performance metric of PCA?*  \n",
        "The **Explained Variance** tells us how much information (variance) is attributed to each of the principal components. When we reduce the dimensional space, we lose some of the information (variance)."
      ],
      "metadata": {
        "id": "-LX4rICvNYMh"
      }
    },
    {
      "cell_type": "code",
      "source": [
        "print(X.shape, X_reduced.shape)\n",
        "print(f\"Sum of explained variance ratio: {pca.explained_variance_ratio_.sum():.2f}\")"
      ],
      "metadata": {
        "id": "-LxJKj7WNaOZ",
        "outputId": "cb1dfb1c-c295-41c3-c19a-9bc4ce0ea68a",
        "colab": {
          "base_uri": "https://localhost:8080/"
        }
      },
      "execution_count": null,
      "outputs": [
        {
          "output_type": "stream",
          "name": "stdout",
          "text": [
            "(1797, 64) (1797, 24)\n",
            "Sum of explained variance ratio: 0.93\n"
          ]
        }
      ]
    },
    {
      "cell_type": "markdown",
      "source": [
        "A different way of configuring PCA"
      ],
      "metadata": {
        "id": "v17d1dYXlyju"
      }
    },
    {
      "cell_type": "code",
      "source": [
        "pca = PCA(n_components= .90)\n",
        "X_reduced = pca.fit_transform(X)"
      ],
      "metadata": {
        "id": "cCmdxYTJl5W_"
      },
      "execution_count": null,
      "outputs": []
    },
    {
      "cell_type": "markdown",
      "source": [
        "`n_components` = .90 means that scikit-learn will choose the minimum number of principal components such that 90% of the variance is retained."
      ],
      "metadata": {
        "id": "ekjgO7g6mNOC"
      }
    },
    {
      "cell_type": "code",
      "source": [
        "print(X.shape, X_reduced.shape)\n",
        "print(f\"Sum of explained variance ratio: {pca.explained_variance_ratio_.sum():.2f}\")"
      ],
      "metadata": {
        "outputId": "f11aa26b-fa43-4026-95cb-a349da1a68dc",
        "colab": {
          "base_uri": "https://localhost:8080/"
        },
        "id": "75gY5E7emCg0"
      },
      "execution_count": null,
      "outputs": [
        {
          "output_type": "stream",
          "name": "stdout",
          "text": [
            "(1797, 64) (1797, 21)\n",
            "Sum of explained variance ratio: 0.90\n"
          ]
        }
      ]
    },
    {
      "cell_type": "markdown",
      "source": [
        "Note that the number of features (dimensions) has reduced from 64 to only 21."
      ],
      "metadata": {
        "id": "59anqkXrmW-u"
      }
    }
  ]
}