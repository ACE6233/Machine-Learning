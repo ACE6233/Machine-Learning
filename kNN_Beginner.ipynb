{
  "cells": [
    {
      "cell_type": "markdown",
      "metadata": {
        "id": "view-in-github",
        "colab_type": "text"
      },
      "source": [
        "<a href=\"https://colab.research.google.com/github/ACE6233/Machine-Learning/blob/main/kNN_Beginner.ipynb\" target=\"_parent\"><img src=\"https://colab.research.google.com/assets/colab-badge.svg\" alt=\"Open In Colab\"/></a>"
      ]
    },
    {
      "cell_type": "markdown",
      "source": [
        "### Classification: For Beginners"
      ],
      "metadata": {
        "id": "APXFe_tFZVU4"
      },
      "id": "APXFe_tFZVU4"
    },
    {
      "cell_type": "markdown",
      "id": "9JGKfaBXlYfO",
      "metadata": {
        "id": "9JGKfaBXlYfO"
      },
      "source": [
        "#### Step 1. Load the Scikit-learn library that contains a variety of packages required for machine learning tasks."
      ]
    },
    {
      "cell_type": "markdown",
      "source": [
        "To be specific, import the k-Nearest Neighbors package that will be used for classification."
      ],
      "metadata": {
        "id": "mxT5HUVnatBb"
      },
      "id": "mxT5HUVnatBb"
    },
    {
      "cell_type": "code",
      "source": [
        "from sklearn.neighbors import KNeighborsClassifier as KNC"
      ],
      "metadata": {
        "id": "x1z4ZGyZbEJ4"
      },
      "id": "x1z4ZGyZbEJ4",
      "execution_count": null,
      "outputs": []
    },
    {
      "cell_type": "code",
      "execution_count": null,
      "id": "q4DkKwbMkL0H",
      "metadata": {
        "id": "q4DkKwbMkL0H"
      },
      "outputs": [],
      "source": [
        "# # For the time being, skip running the following program lines.\n",
        "# import pandas as pd\n",
        "# from pandas import read_csv\n",
        "# from matplotlib import pyplot\n",
        "# from sklearn.model_selection import train_test_split, GridSearchCV, KFold, cross_val_score\n",
        "# from sklearn.metrics import classification_report, confusion_matrix, ConfusionMatrixDisplay, accuracy_score\n",
        "# from sklearn.neighbors import KNeighborsClassifier as KNC\n",
        "# from sklearn.svm import SVC\n",
        "# from sklearn.tree import DecisionTreeClassifier as DTC, plot_tree\n",
        "# from sklearn.datasets import load_iris"
      ]
    },
    {
      "cell_type": "markdown",
      "metadata": {
        "id": "Z3OzOd1CbsaB"
      },
      "source": [
        "#### Step 2. Next, choose a dataset.  \n",
        "Here, we choose the Iris dataset, which is one of the simplest and it comes with the Scikit-learn."
      ],
      "id": "Z3OzOd1CbsaB"
    },
    {
      "cell_type": "code",
      "source": [
        "from sklearn.datasets import load_iris"
      ],
      "metadata": {
        "id": "4_zW8aNgcM0J"
      },
      "id": "4_zW8aNgcM0J",
      "execution_count": null,
      "outputs": []
    },
    {
      "cell_type": "markdown",
      "metadata": {
        "collapsed": true,
        "id": "ytFaY-Jqv2JQ"
      },
      "source": [
        "The Iris dataset is one of datasets Scikit-learn comes with that do not require the downloading of any file from some external website. The code below loads the Iris dataset."
      ],
      "id": "ytFaY-Jqv2JQ"
    },
    {
      "cell_type": "code",
      "source": [
        "iris_data = load_iris()"
      ],
      "metadata": {
        "id": "H6p92LbfcZNG"
      },
      "id": "H6p92LbfcZNG",
      "execution_count": null,
      "outputs": []
    },
    {
      "cell_type": "markdown",
      "source": [
        "In any dataset, there are:  \n",
        "1. Data samples"
      ],
      "metadata": {
        "id": "hQJvXxKGRc9z"
      },
      "id": "hQJvXxKGRc9z"
    },
    {
      "cell_type": "code",
      "source": [
        "data_samples = iris_data.data"
      ],
      "metadata": {
        "id": "QWNVzytERw93"
      },
      "id": "QWNVzytERw93",
      "execution_count": null,
      "outputs": []
    },
    {
      "cell_type": "markdown",
      "source": [
        "2. In each sample, there are **features**."
      ],
      "metadata": {
        "id": "yaTcv7kSSCvY"
      },
      "id": "yaTcv7kSSCvY"
    },
    {
      "cell_type": "code",
      "source": [
        "data_features = iris_data.feature_names"
      ],
      "metadata": {
        "id": "jJp93hDWSI--"
      },
      "id": "jJp93hDWSI--",
      "execution_count": null,
      "outputs": []
    },
    {
      "cell_type": "markdown",
      "source": [
        "Question: What are the features?"
      ],
      "metadata": {
        "id": "qNreOzvHTvkt"
      },
      "id": "qNreOzvHTvkt"
    },
    {
      "cell_type": "code",
      "source": [],
      "metadata": {
        "id": "pflanbpLTyfp"
      },
      "id": "pflanbpLTyfp",
      "execution_count": null,
      "outputs": []
    },
    {
      "cell_type": "markdown",
      "source": [
        "3. In each sample, there is a **target** (label) too."
      ],
      "metadata": {
        "id": "w7RKrtiRS5rr"
      },
      "id": "w7RKrtiRS5rr"
    },
    {
      "cell_type": "code",
      "source": [
        "data_target = iris_data.target"
      ],
      "metadata": {
        "id": "xF28Y2izTDjx"
      },
      "id": "xF28Y2izTDjx",
      "execution_count": null,
      "outputs": []
    },
    {
      "cell_type": "markdown",
      "source": [
        "Question: How many targets or classes, and what are their names?"
      ],
      "metadata": {
        "id": "YUEncnFrUh6u"
      },
      "id": "YUEncnFrUh6u"
    },
    {
      "cell_type": "code",
      "source": [
        "data_classes = iris_data.target_names"
      ],
      "metadata": {
        "id": "oczBqDfiUp0y"
      },
      "id": "oczBqDfiUp0y",
      "execution_count": null,
      "outputs": []
    },
    {
      "cell_type": "code",
      "source": [],
      "metadata": {
        "id": "rKEx3zQPU7hL"
      },
      "id": "rKEx3zQPU7hL",
      "execution_count": null,
      "outputs": []
    },
    {
      "cell_type": "markdown",
      "source": [
        "#### Step 3. For easy visualization and manipulation of the dataset, use the Pandas library."
      ],
      "metadata": {
        "id": "2IVha_Ibcbg9"
      },
      "id": "2IVha_Ibcbg9"
    },
    {
      "cell_type": "markdown",
      "source": [
        "We need to first import the Pandas library."
      ],
      "metadata": {
        "id": "GDHRFSxZfR-o"
      },
      "id": "GDHRFSxZfR-o"
    },
    {
      "cell_type": "code",
      "source": [
        "import pandas as pd"
      ],
      "metadata": {
        "id": "OjhKC5WKcpO1"
      },
      "id": "OjhKC5WKcpO1",
      "execution_count": null,
      "outputs": []
    },
    {
      "cell_type": "markdown",
      "source": [
        "Store our data in the form of Pandas **DataFrame**."
      ],
      "metadata": {
        "id": "l64pPVLwhAWN"
      },
      "id": "l64pPVLwhAWN"
    },
    {
      "cell_type": "code",
      "execution_count": null,
      "metadata": {
        "id": "m6-_DCYlv2JR"
      },
      "outputs": [],
      "source": [
        "df = pd.DataFrame(data_samples, columns=data_features)"
      ],
      "id": "m6-_DCYlv2JR"
    },
    {
      "cell_type": "code",
      "source": [
        "df['target'] = data_target"
      ],
      "metadata": {
        "id": "ftslyzHZhHJv"
      },
      "id": "ftslyzHZhHJv",
      "execution_count": null,
      "outputs": []
    },
    {
      "cell_type": "markdown",
      "id": "PGFrs19OlqK2",
      "metadata": {
        "id": "PGFrs19OlqK2"
      },
      "source": [
        "We can examine the first few data samples."
      ]
    },
    {
      "cell_type": "code",
      "source": [
        "df.head()"
      ],
      "metadata": {
        "id": "3tTJIOZCDLC-"
      },
      "id": "3tTJIOZCDLC-",
      "execution_count": null,
      "outputs": []
    },
    {
      "cell_type": "markdown",
      "source": [
        "What is the size of our data?"
      ],
      "metadata": {
        "id": "ApZ7lRyZVhvq"
      },
      "id": "ApZ7lRyZVhvq"
    },
    {
      "cell_type": "code",
      "execution_count": null,
      "id": "qG-C-hLRv7CX",
      "metadata": {
        "id": "qG-C-hLRv7CX"
      },
      "outputs": [],
      "source": [
        "df.shape"
      ]
    },
    {
      "cell_type": "markdown",
      "source": [
        "What are the statistics of our data?"
      ],
      "metadata": {
        "id": "2qhPr82OCr_6"
      },
      "id": "2qhPr82OCr_6"
    },
    {
      "cell_type": "code",
      "execution_count": null,
      "id": "xm1LqgQmwFmz",
      "metadata": {
        "id": "xm1LqgQmwFmz"
      },
      "outputs": [],
      "source": [
        "df.describe()"
      ]
    },
    {
      "cell_type": "markdown",
      "source": [
        "What is the size of each class?"
      ],
      "metadata": {
        "id": "jdaFk79pCymB"
      },
      "id": "jdaFk79pCymB"
    },
    {
      "cell_type": "code",
      "execution_count": null,
      "id": "ec-v6fKMwdSq",
      "metadata": {
        "id": "ec-v6fKMwdSq"
      },
      "outputs": [],
      "source": [
        "df.groupby('target').size()"
      ]
    },
    {
      "cell_type": "markdown",
      "id": "fzclCAR5l6rO",
      "metadata": {
        "id": "fzclCAR5l6rO"
      },
      "source": [
        "Data visualizations (Histograms)"
      ]
    },
    {
      "cell_type": "code",
      "execution_count": null,
      "id": "jCCReXSWwhjX",
      "metadata": {
        "id": "jCCReXSWwhjX"
      },
      "outputs": [],
      "source": [
        "df.hist()"
      ]
    },
    {
      "cell_type": "markdown",
      "source": [
        "#### Step 4: Training"
      ],
      "metadata": {
        "id": "94WglSYmWve9"
      },
      "id": "94WglSYmWve9"
    },
    {
      "cell_type": "markdown",
      "id": "4PDPgj_rmGcD",
      "metadata": {
        "id": "4PDPgj_rmGcD"
      },
      "source": [
        "Split the data into 2 sets, one for training and the other for testing."
      ]
    },
    {
      "cell_type": "code",
      "execution_count": null,
      "id": "08eebced",
      "metadata": {
        "id": "08eebced"
      },
      "outputs": [],
      "source": [
        "array = df.values\n",
        "X = array[:, 0:4] # All columns before the last one are Features\n",
        "y = array[:, 4] # Last column is the Target\n",
        "test_size = 0.20\n",
        "seed = 7"
      ]
    },
    {
      "cell_type": "markdown",
      "source": [
        "Need to import the train_test_split() function, which will split the data into random train and test subsets."
      ],
      "metadata": {
        "id": "bf5yb75AX0ej"
      },
      "id": "bf5yb75AX0ej"
    },
    {
      "cell_type": "code",
      "source": [
        "from sklearn.model_selection import train_test_split"
      ],
      "metadata": {
        "id": "NXAedJHDYpPO"
      },
      "id": "NXAedJHDYpPO",
      "execution_count": null,
      "outputs": []
    },
    {
      "cell_type": "code",
      "source": [
        "X_train, X_test, y_train, y_test = train_test_split(X, y, test_size=test_size, random_state=seed)"
      ],
      "metadata": {
        "id": "3Qn1azfgXQnz"
      },
      "id": "3Qn1azfgXQnz",
      "execution_count": null,
      "outputs": []
    },
    {
      "cell_type": "markdown",
      "id": "dfaac116",
      "metadata": {
        "id": "dfaac116"
      },
      "source": [
        "Check the dimensions of train set (X_train) and test set (X_test). How many data samples are there in the train set and test set?"
      ]
    },
    {
      "cell_type": "code",
      "source": [
        "X_train.shape"
      ],
      "metadata": {
        "id": "exXjZRcRltPZ"
      },
      "id": "exXjZRcRltPZ",
      "execution_count": null,
      "outputs": []
    },
    {
      "cell_type": "code",
      "execution_count": null,
      "id": "17e578fe",
      "metadata": {
        "id": "17e578fe"
      },
      "outputs": [],
      "source": [
        "X_test.shape"
      ]
    },
    {
      "cell_type": "markdown",
      "source": [
        "Use the k-Nearest Neighbors (kNN) classifier to classify the iris flowers.  \n",
        "First, import the kNN method."
      ],
      "metadata": {
        "id": "BnfXtfn7lrdt"
      },
      "id": "BnfXtfn7lrdt"
    },
    {
      "cell_type": "code",
      "source": [
        "from sklearn.neighbors import KNeighborsClassifier as KNC"
      ],
      "metadata": {
        "id": "BfsfRBGVkYRZ"
      },
      "id": "BfsfRBGVkYRZ",
      "execution_count": null,
      "outputs": []
    },
    {
      "cell_type": "code",
      "execution_count": null,
      "id": "53bab21e",
      "metadata": {
        "id": "53bab21e"
      },
      "outputs": [],
      "source": [
        "knn = KNC().fit(X_train, y_train)"
      ]
    },
    {
      "cell_type": "markdown",
      "source": [
        "After fitting (training), test the trained model."
      ],
      "metadata": {
        "id": "0APGWtJskd4v"
      },
      "id": "0APGWtJskd4v"
    },
    {
      "cell_type": "code",
      "execution_count": null,
      "id": "fce34322",
      "metadata": {
        "id": "fce34322"
      },
      "outputs": [],
      "source": [
        "result = knn.score(X_test, y_test)"
      ]
    },
    {
      "cell_type": "code",
      "source": [
        "print(f'Accuracy: {100 * result:.2f} %')"
      ],
      "metadata": {
        "id": "ty7AGBWH3por"
      },
      "execution_count": null,
      "outputs": [],
      "id": "ty7AGBWH3por"
    },
    {
      "cell_type": "markdown",
      "source": [
        "How many neighbors should be considered in order for kNN to give the best performance?  \n",
        "Trial-and-error?"
      ],
      "metadata": {
        "id": "_ymykUxSKn0W"
      },
      "id": "_ymykUxSKn0W"
    },
    {
      "cell_type": "markdown",
      "source": [
        "Train and evaluate a k-NN model with k=5"
      ],
      "metadata": {
        "id": "Rd4b6xTs_JKT"
      },
      "id": "Rd4b6xTs_JKT"
    },
    {
      "cell_type": "code",
      "execution_count": null,
      "metadata": {
        "id": "Pi-enE7xRSWS"
      },
      "outputs": [],
      "source": [
        "knn = KNC(n_neighbors=5).fit(X_train, y_train)"
      ],
      "id": "Pi-enE7xRSWS"
    },
    {
      "cell_type": "code",
      "source": [
        "result = knn.score(X_test, y_test)\n",
        "print(f'Accuracy: {100 * result:.2f} %')"
      ],
      "metadata": {
        "id": "TUYtiMmJRjqI"
      },
      "id": "TUYtiMmJRjqI",
      "execution_count": null,
      "outputs": []
    },
    {
      "cell_type": "markdown",
      "source": [
        "Can you try with different number of nearest neighbors?"
      ],
      "metadata": {
        "id": "uCxxkZzVRuex"
      },
      "id": "uCxxkZzVRuex"
    }
  ],
  "metadata": {
    "colab": {
      "provenance": [],
      "include_colab_link": true
    },
    "kernelspec": {
      "display_name": "Python 3 (ipykernel)",
      "language": "python",
      "name": "python3"
    },
    "language_info": {
      "codemirror_mode": {
        "name": "ipython",
        "version": 3
      },
      "file_extension": ".py",
      "mimetype": "text/x-python",
      "name": "python",
      "nbconvert_exporter": "python",
      "pygments_lexer": "ipython3",
      "version": "3.9.13"
    }
  },
  "nbformat": 4,
  "nbformat_minor": 5
}